{
 "cells": [
  {
   "cell_type": "code",
   "execution_count": 23,
   "metadata": {},
   "outputs": [
    {
     "name": "stdout",
     "output_type": "stream",
     "text": [
      "                 CAD       CNY       EUR       GBP       INR       JPY  \\\n",
      "2013-01-02  1.012672  0.160039  1.320664  1.626879  0.018368  0.011477   \n",
      "2013-01-03  1.012338  0.160110  1.307521  1.612313  0.018366  0.011447   \n",
      "2013-01-04  1.013542  0.160139  1.309641  1.611448  0.018275  0.011392   \n",
      "2013-01-05  1.013007  0.160118  1.309641  1.611448  0.018244  0.011371   \n",
      "2013-01-06  1.013438  0.160125  1.309898  1.611741  0.018247  0.011361   \n",
      "...              ...       ...       ...       ...       ...       ...   \n",
      "2022-12-27  0.739235  0.143676  1.063683  1.202617  0.012081  0.007491   \n",
      "2022-12-28  0.735318  0.143293  1.062869  1.202971  0.012070  0.007460   \n",
      "2022-12-29  0.737817  0.143594  1.066155  1.205473  0.012072  0.007522   \n",
      "2022-12-30  0.737001  0.144963  1.072673  1.210300  0.012085  0.007627   \n",
      "2022-12-31  0.736947  0.144972  1.072673  1.209800  0.012085  0.007627   \n",
      "\n",
      "                 RUB       KRW  \n",
      "2013-01-02  0.033058  0.000940  \n",
      "2013-01-03  0.033056  0.000940  \n",
      "2013-01-04  0.033027  0.000941  \n",
      "2013-01-05  0.032995  0.000941  \n",
      "2013-01-06  0.032996  0.000943  \n",
      "...              ...       ...  \n",
      "2022-12-27  0.014286  0.000786  \n",
      "2022-12-28  0.013746  0.000785  \n",
      "2022-12-29  0.013513  0.000793  \n",
      "2022-12-30  0.013559  0.000792  \n",
      "2022-12-31  0.013559  0.000792  \n",
      "\n",
      "[3651 rows x 8 columns]\n"
     ]
    }
   ],
   "source": [
    "import requests\n",
    "import pandas as pd\n",
    "\n",
    "def get_exchange_rates(start_date, end_date, base_currency, target_currency):\n",
    "    url = \"https://api.apilayer.com/exchangerates_data/timeseries\"\n",
    "    headers = {\n",
    "        \"apikey\": \"xG4VP7WvDuXtP5HxdzfyHmPw0rR4Ymza\"\n",
    "    }\n",
    "    rates = {}\n",
    "    year = pd.Timedelta(days=365)\n",
    "    query_date = pd.to_datetime(end_date)\n",
    "    while query_date >= pd.to_datetime(start_date):\n",
    "        # Set the start and end dates for the current year\n",
    "        current_year_start = (query_date - year).strftime('%Y-%m-%d')\n",
    "        current_year_end = query_date.strftime('%Y-%m-%d')\n",
    "        params = {'access_key': 'xG4VP7WvDuXtP5HxdzfyHmPw0rR4Ymza',\n",
    "                  'start_date': current_year_start,\n",
    "                  'end_date': current_year_end,\n",
    "                  'base': base_currency,\n",
    "                  'symbols': target_currency}\n",
    "        try:\n",
    "            response = requests.get(url, params=params, headers=headers)\n",
    "            response.raise_for_status()\n",
    "            data = response.json()\n",
    "            rates.update(data['rates'])\n",
    "        except requests.exceptions.RequestException as e:\n",
    "            print(\"Error: \", e)\n",
    "        query_date -= year\n",
    "    # Create a DataFrame from the rates dictionary\n",
    "    df = pd.DataFrame.from_dict(rates, orient='index')\n",
    "    return df\n",
    "\n",
    "# Define the parameters for the function\n",
    "start_date = '2013-12-31'\n",
    "end_date = '2022-12-31'\n",
    "base_currency_list = ['CAD', 'CNY', 'EUR', 'GBP', 'INR', 'JPY', 'RUB', 'KRW']\n",
    "target_currency = 'USD'\n",
    "\n",
    "# Initialize an empty dataframe to hold the concatenated results\n",
    "result_df = pd.DataFrame()\n",
    "\n",
    "# Call the function for each base currency and concatenate the result horizontally\n",
    "for base_currency in base_currency_list:\n",
    "    temp_df = get_exchange_rates(start_date, end_date, base_currency, target_currency)\n",
    "    temp_df.columns = [base_currency]  # Rename the column to the base currency code\n",
    "    if result_df.empty:\n",
    "        result_df = temp_df\n",
    "    else:\n",
    "        result_df = pd.concat([result_df, temp_df], axis=1)\n"
   ]
  },
  {
   "cell_type": "code",
   "execution_count": 28,
   "metadata": {},
   "outputs": [],
   "source": [
    "result_df = result_df.rename(columns={'CAD': 'CAD/USD',\n",
    "                                      'CNY': 'CNY/USD',\n",
    "                                      'EUR': 'EUR/USD',\n",
    "                                      'GBP': 'GBP/USD',\n",
    "                                      'INR': 'INR/USD',\n",
    "                                      'JPY': 'JPY/USD',\n",
    "                                      'RUB': 'RUB/USD',\n",
    "                                      'KRW': 'KRW/USD'})\n",
    "\n",
    "result_df.to_excel('daily_exchange_rates.xlsx', index=False)"
   ]
  }
 ],
 "metadata": {
  "kernelspec": {
   "display_name": "base",
   "language": "python",
   "name": "python3"
  },
  "language_info": {
   "codemirror_mode": {
    "name": "ipython",
    "version": 3
   },
   "file_extension": ".py",
   "mimetype": "text/x-python",
   "name": "python",
   "nbconvert_exporter": "python",
   "pygments_lexer": "ipython3",
   "version": "3.9.13"
  },
  "orig_nbformat": 4
 },
 "nbformat": 4,
 "nbformat_minor": 2
}
