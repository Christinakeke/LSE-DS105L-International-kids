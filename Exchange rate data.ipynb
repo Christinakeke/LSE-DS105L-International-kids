{
 "cells": [
  {
   "cell_type": "code",
   "execution_count": 1,
   "metadata": {},
   "outputs": [],
   "source": [
    "import requests\n",
    "import pandas as pd\n",
    "\n",
    "def get_exchange_rates(start_date, end_date, base_currency, target_currency):\n",
    "    url = \"https://api.apilayer.com/exchangerates_data/timeseries\"\n",
    "    headers = {\n",
    "        \"apikey\": \"xG4VP7WvDuXtP5HxdzfyHmPw0rR4Ymza\"\n",
    "    }\n",
    "    rates = {}\n",
    "    year = pd.Timedelta(days=365)\n",
    "    query_date = pd.to_datetime(end_date)\n",
    "    while query_date >= pd.to_datetime(start_date):\n",
    "        # Set the start and end dates for the current year\n",
    "        current_year_start = (query_date - year).strftime('%Y-%m-%d')\n",
    "        current_year_end = query_date.strftime('%Y-%m-%d')\n",
    "        params = {'access_key': 'xG4VP7WvDuXtP5HxdzfyHmPw0rR4Ymza',\n",
    "                  'start_date': current_year_start,\n",
    "                  'end_date': current_year_end,\n",
    "                  'base': base_currency,\n",
    "                  'symbols': target_currency}\n",
    "        try:\n",
    "            response = requests.get(url, params=params, headers=headers)\n",
    "            response.raise_for_status()\n",
    "            data = response.json()\n",
    "            rates.update(data['rates'])\n",
    "        except requests.exceptions.RequestException as e:\n",
    "            print(\"Error: \", e)\n",
    "        query_date -= year\n",
    "    # Create a DataFrame from the rates dictionary\n",
    "    df = pd.DataFrame.from_dict(rates, orient='index')\n",
    "    return df\n"
   ]
  },
  {
   "cell_type": "code",
   "execution_count": 12,
   "metadata": {},
   "outputs": [],
   "source": [
    "start_date = '2013-12-31'\n",
    "end_date = '2022-12-31'\n",
    "base_currency = 'CNY'\n",
    "target_currency = 'USD'\n",
    "df_CNY = get_exchange_rates(start_date, end_date, base_currency, target_currency)"
   ]
  },
  {
   "cell_type": "code",
   "execution_count": 36,
   "metadata": {},
   "outputs": [
    {
     "data": {
      "text/html": [
       "<div>\n",
       "<style scoped>\n",
       "    .dataframe tbody tr th:only-of-type {\n",
       "        vertical-align: middle;\n",
       "    }\n",
       "\n",
       "    .dataframe tbody tr th {\n",
       "        vertical-align: top;\n",
       "    }\n",
       "\n",
       "    .dataframe thead th {\n",
       "        text-align: right;\n",
       "    }\n",
       "</style>\n",
       "<table border=\"1\" class=\"dataframe\">\n",
       "  <thead>\n",
       "    <tr style=\"text-align: right;\">\n",
       "      <th></th>\n",
       "      <th>USD</th>\n",
       "    </tr>\n",
       "  </thead>\n",
       "  <tbody>\n",
       "    <tr>\n",
       "      <th>2013-01-31</th>\n",
       "      <td>0.160396</td>\n",
       "    </tr>\n",
       "    <tr>\n",
       "      <th>2013-02-28</th>\n",
       "      <td>0.160114</td>\n",
       "    </tr>\n",
       "    <tr>\n",
       "      <th>2013-03-31</th>\n",
       "      <td>0.160488</td>\n",
       "    </tr>\n",
       "    <tr>\n",
       "      <th>2013-04-30</th>\n",
       "      <td>0.161311</td>\n",
       "    </tr>\n",
       "    <tr>\n",
       "      <th>2013-05-31</th>\n",
       "      <td>0.162514</td>\n",
       "    </tr>\n",
       "    <tr>\n",
       "      <th>...</th>\n",
       "      <td>...</td>\n",
       "    </tr>\n",
       "    <tr>\n",
       "      <th>2022-08-31</th>\n",
       "      <td>0.147059</td>\n",
       "    </tr>\n",
       "    <tr>\n",
       "      <th>2022-09-30</th>\n",
       "      <td>0.142712</td>\n",
       "    </tr>\n",
       "    <tr>\n",
       "      <th>2022-10-31</th>\n",
       "      <td>0.139092</td>\n",
       "    </tr>\n",
       "    <tr>\n",
       "      <th>2022-11-30</th>\n",
       "      <td>0.139558</td>\n",
       "    </tr>\n",
       "    <tr>\n",
       "      <th>2022-12-31</th>\n",
       "      <td>0.143394</td>\n",
       "    </tr>\n",
       "  </tbody>\n",
       "</table>\n",
       "<p>120 rows × 1 columns</p>\n",
       "</div>"
      ],
      "text/plain": [
       "                 USD\n",
       "2013-01-31  0.160396\n",
       "2013-02-28  0.160114\n",
       "2013-03-31  0.160488\n",
       "2013-04-30  0.161311\n",
       "2013-05-31  0.162514\n",
       "...              ...\n",
       "2022-08-31  0.147059\n",
       "2022-09-30  0.142712\n",
       "2022-10-31  0.139092\n",
       "2022-11-30  0.139558\n",
       "2022-12-31  0.143394\n",
       "\n",
       "[120 rows x 1 columns]"
      ]
     },
     "execution_count": 36,
     "metadata": {},
     "output_type": "execute_result"
    }
   ],
   "source": [
    "df_CNY.index = pd.to_datetime(df_CNY.index)\n",
    "\n",
    "# Resample the DataFrame to monthly frequency and calculate the mean exchange rate for each month\n",
    "monthly_average = df_CNY.resample('M').mean()\n",
    "\n",
    "# Print the resulting DataFrame\n",
    "monthly_average\n"
   ]
  },
  {
   "cell_type": "code",
   "execution_count": 50,
   "metadata": {},
   "outputs": [
    {
     "data": {
      "text/html": [
       "<div>\n",
       "<style scoped>\n",
       "    .dataframe tbody tr th:only-of-type {\n",
       "        vertical-align: middle;\n",
       "    }\n",
       "\n",
       "    .dataframe tbody tr th {\n",
       "        vertical-align: top;\n",
       "    }\n",
       "\n",
       "    .dataframe thead th {\n",
       "        text-align: right;\n",
       "    }\n",
       "</style>\n",
       "<table border=\"1\" class=\"dataframe\">\n",
       "  <thead>\n",
       "    <tr style=\"text-align: right;\">\n",
       "      <th></th>\n",
       "      <th>index</th>\n",
       "      <th>USD</th>\n",
       "    </tr>\n",
       "  </thead>\n",
       "  <tbody>\n",
       "    <tr>\n",
       "      <th>0</th>\n",
       "      <td>2013-01-31</td>\n",
       "      <td>0.16039596666666667</td>\n",
       "    </tr>\n",
       "    <tr>\n",
       "      <th>1</th>\n",
       "      <td>2013-02-28</td>\n",
       "      <td>0.16011375</td>\n",
       "    </tr>\n",
       "    <tr>\n",
       "      <th>2</th>\n",
       "      <td>2013-03-31</td>\n",
       "      <td>0.16048809677419357</td>\n",
       "    </tr>\n",
       "    <tr>\n",
       "      <th>3</th>\n",
       "      <td>2013-04-30</td>\n",
       "      <td>0.16131136666666668</td>\n",
       "    </tr>\n",
       "    <tr>\n",
       "      <th>4</th>\n",
       "      <td>2013-05-31</td>\n",
       "      <td>0.162514</td>\n",
       "    </tr>\n",
       "    <tr>\n",
       "      <th>...</th>\n",
       "      <td>...</td>\n",
       "      <td>...</td>\n",
       "    </tr>\n",
       "    <tr>\n",
       "      <th>115</th>\n",
       "      <td>2022-08-31</td>\n",
       "      <td>0.14705851612903226</td>\n",
       "    </tr>\n",
       "    <tr>\n",
       "      <th>116</th>\n",
       "      <td>2022-09-30</td>\n",
       "      <td>0.1427123</td>\n",
       "    </tr>\n",
       "    <tr>\n",
       "      <th>117</th>\n",
       "      <td>2022-10-31</td>\n",
       "      <td>0.1390922258064516</td>\n",
       "    </tr>\n",
       "    <tr>\n",
       "      <th>118</th>\n",
       "      <td>2022-11-30</td>\n",
       "      <td>0.13955820000000002</td>\n",
       "    </tr>\n",
       "    <tr>\n",
       "      <th>119</th>\n",
       "      <td>2022-12-31</td>\n",
       "      <td>0.14339358064516128</td>\n",
       "    </tr>\n",
       "  </tbody>\n",
       "</table>\n",
       "<p>120 rows × 2 columns</p>\n",
       "</div>"
      ],
      "text/plain": [
       "         index                  USD\n",
       "0   2013-01-31  0.16039596666666667\n",
       "1   2013-02-28           0.16011375\n",
       "2   2013-03-31  0.16048809677419357\n",
       "3   2013-04-30  0.16131136666666668\n",
       "4   2013-05-31             0.162514\n",
       "..         ...                  ...\n",
       "115 2022-08-31  0.14705851612903226\n",
       "116 2022-09-30            0.1427123\n",
       "117 2022-10-31   0.1390922258064516\n",
       "118 2022-11-30  0.13955820000000002\n",
       "119 2022-12-31  0.14339358064516128\n",
       "\n",
       "[120 rows x 2 columns]"
      ]
     },
     "execution_count": 50,
     "metadata": {},
     "output_type": "execute_result"
    }
   ],
   "source": [
    "monthly_average1= monthly_average.reset_index(drop=False)\n",
    "monthly_average1"
   ]
  },
  {
   "cell_type": "code",
   "execution_count": 62,
   "metadata": {},
   "outputs": [],
   "source": [
    "monthly_average1.to_excel(\"CNY.xlsx\")"
   ]
  },
  {
   "cell_type": "code",
   "execution_count": 67,
   "metadata": {},
   "outputs": [],
   "source": [
    "df_CNY1=pd.read_excel('CNY.xlsx')\n"
   ]
  },
  {
   "cell_type": "code",
   "execution_count": 68,
   "metadata": {},
   "outputs": [
    {
     "data": {
      "image/png": "[encoded data removed]",
      "text/plain": [
       "<Figure size 640x480 with 1 Axes>"
      ]
     },
     "metadata": {},
     "output_type": "display_data"
    },
    {
     "data": {
      "text/plain": [
       "<ggplot: (8776120251597)>"
      ]
     },
     "execution_count": 68,
     "metadata": {},
     "output_type": "execute_result"
    }
   ],
   "source": [
    "from plotnine import *\n",
    "\n",
    "g = ggplot (data=df_CNY1, mapping=aes(x='index', y='USD')) + geom_line() \n",
    "\n",
    "g"
   ]
  },
  {
   "cell_type": "code",
   "execution_count": 4,
   "metadata": {},
   "outputs": [],
   "source": [
    "start_date = '2013-12-31'\n",
    "end_date = '2022-12-31'\n",
    "base_currency = 'JPY'\n",
    "target_currency = 'USD'\n",
    "df_JPY = get_exchange_rates(start_date, end_date, base_currency, target_currency)"
   ]
  },
  {
   "cell_type": "code",
   "execution_count": null,
   "metadata": {},
   "outputs": [],
   "source": [
    "start_date = '2013-12-31'\n",
    "end_date = '2022-12-31'\n",
    "base_currency = 'EUR'\n",
    "target_currency = 'USD'\n",
    "df_EUR = get_exchange_rates(start_date, end_date, base_currency, target_currency)"
   ]
  },
  {
   "cell_type": "code",
   "execution_count": null,
   "metadata": {},
   "outputs": [],
   "source": [
    "start_date = '2013-12-31'\n",
    "end_date = '2022-12-31'\n",
    "base_currency = 'GBP'\n",
    "target_currency = 'USD'\n",
    "df_GBP = get_exchange_rates(start_date, end_date, base_currency, target_currency)"
   ]
  },
  {
   "cell_type": "code",
   "execution_count": null,
   "metadata": {},
   "outputs": [],
   "source": [
    "start_date = '2013-12-31'\n",
    "end_date = '2022-12-31'\n",
    "base_currency = 'INR'\n",
    "target_currency = 'USD'\n",
    "df_INR = get_exchange_rates(start_date, end_date, base_currency, target_currency)"
   ]
  },
  {
   "cell_type": "code",
   "execution_count": null,
   "metadata": {},
   "outputs": [],
   "source": [
    "start_date = '2013-12-31'\n",
    "end_date = '2022-12-31'\n",
    "base_currency = 'CAD'\n",
    "target_currency = 'USD'\n",
    "df_CAD = get_exchange_rates(start_date, end_date, base_currency, target_currency)"
   ]
  },
  {
   "cell_type": "code",
   "execution_count": null,
   "metadata": {},
   "outputs": [],
   "source": [
    "start_date = '2013-12-31'\n",
    "end_date = '2022-12-31'\n",
    "base_currency = 'KRW'\n",
    "target_currency = 'USD'\n",
    "df_KRW = get_exchange_rates(start_date, end_date, base_currency, target_currency)"
   ]
  },
  {
   "cell_type": "code",
   "execution_count": null,
   "metadata": {},
   "outputs": [],
   "source": [
    "start_date = '2013-12-31'\n",
    "end_date = '2022-12-31'\n",
    "base_currency = 'RUB'\n",
    "target_currency = 'USD'\n",
    "df_RUB= get_exchange_rates(start_date, end_date, base_currency, target_currency)"
   ]
  }
 ],
 "metadata": {
  "kernelspec": {
   "display_name": "base",
   "language": "python",
   "name": "python3"
  },
  "language_info": {
   "codemirror_mode": {
    "name": "ipython",
    "version": 3
   },
   "file_extension": ".py",
   "mimetype": "text/x-python",
   "name": "python",
   "nbconvert_exporter": "python",
   "pygments_lexer": "ipython3",
   "version": "3.9.13"
  },
  "orig_nbformat": 4
 },
 "nbformat": 4,
 "nbformat_minor": 2
}
