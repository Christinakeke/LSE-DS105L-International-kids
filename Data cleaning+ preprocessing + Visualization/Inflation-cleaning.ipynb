{
 "cells": [
  {
   "cell_type": "code",
   "execution_count": 2,
   "metadata": {},
   "outputs": [],
   "source": [
    "import pandas as pd\n",
    "df1= pd.read_csv('DP_LIVE_05032023170628727.csv')"
   ]
  },
  {
   "cell_type": "code",
   "execution_count": 11,
   "metadata": {},
   "outputs": [],
   "source": [
    "# Convert the 'Time' column to datetime format\n",
    "df1['TIME'] = pd.to_datetime(df1['TIME'])\n",
    "\n",
    "# Select rows with 'CHN', 'FRA', 'CAN', 'JPN', 'KOR', 'GBR', 'USA', 'IND', 'RUS', 'DEU' country codes and a timestamp between 2013 and 2022\n",
    "mask = (df1['LOCATION'].isin(['CHN','FRA','CAN','JPN','KOR','GBR','USA','IND','RUS','DEU','ITA'])) & (df1['TIME'].dt.year >= 2013) & (df1['TIME'].dt.year <= 2022)\n",
    "CPI_data = df1.loc[mask]\n",
    "\n",
    "CPI_data=CPI_data.drop(['INDICATOR','SUBJECT','MEASURE','FREQUENCY','Flag Codes'],axis=1)"
   ]
  },
  {
   "cell_type": "code",
   "execution_count": 12,
   "metadata": {},
   "outputs": [],
   "source": [
    "CPI_data.to_excel('CPI_data.xlsx', index=False)"
   ]
  }
 ],
 "metadata": {
  "kernelspec": {
   "display_name": "base",
   "language": "python",
   "name": "python3"
  },
  "language_info": {
   "codemirror_mode": {
    "name": "ipython",
    "version": 3
   },
   "file_extension": ".py",
   "mimetype": "text/x-python",
   "name": "python",
   "nbconvert_exporter": "python",
   "pygments_lexer": "ipython3",
   "version": "3.9.13"
  },
  "orig_nbformat": 4
 },
 "nbformat": 4,
 "nbformat_minor": 2
}
