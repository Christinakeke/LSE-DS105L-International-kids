{
 "cells": [
  {
   "cell_type": "code",
   "execution_count": 1,
   "metadata": {},
   "outputs": [],
   "source": [
    "import requests\n",
    "import pandas as pd\n",
    "\n",
    "def get_exchange_rates(start_date, end_date, base_currency, target_currency):\n",
    "    url = \"https://api.apilayer.com/exchangerates_data/timeseries\"\n",
    "    headers = {\n",
    "        \"apikey\": \"We love Jon\"\n",
    "    }\n",
    "    rates = {}\n",
    "    year = pd.Timedelta(days=365)\n",
    "    query_date = pd.to_datetime(end_date)\n",
    "    while query_date >= pd.to_datetime(start_date):\n",
    "        # Set the start and end dates for the current year\n",
    "        current_year_start = (query_date - year).strftime('%Y-%m-%d')\n",
    "        current_year_end = query_date.strftime('%Y-%m-%d')\n",
    "        params = {'access_key': 'We love Jon',\n",
    "                  'start_date': current_year_start,\n",
    "                  'end_date': current_year_end,\n",
    "                  'base': base_currency,\n",
    "                  'symbols': target_currency}\n",
    "        try:\n",
    "            response = requests.get(url, params=params, headers=headers)\n",
    "            response.raise_for_status()\n",
    "            data = response.json()\n",
    "            rates.update(data['rates'])\n",
    "        except requests.exceptions.RequestException as e:\n",
    "            print(\"Error: \", e)\n",
    "        query_date -= year\n",
    "    # Create a DataFrame from the rates dictionary\n",
    "    df = pd.DataFrame.from_dict(rates, orient='index')\n",
    "    return df"
   ]
  },
  {
   "cell_type": "code",
   "execution_count": 2,
   "metadata": {},
   "outputs": [],
   "source": [
    "start_date = '2013-12-31'\n",
    "end_date = '2022-12-31'\n",
    "base_currency = 'CNY'\n",
    "target_currency = 'USD'\n",
    "df_CNY = get_exchange_rates(start_date, end_date, base_currency, target_currency)"
   ]
  },
  {
   "cell_type": "code",
   "execution_count": 3,
   "metadata": {},
   "outputs": [],
   "source": [
    "start_date = '2013-12-31'\n",
    "end_date = '2022-12-31'\n",
    "base_currency = 'JPY'\n",
    "target_currency = 'USD'\n",
    "df_JPY = get_exchange_rates(start_date, end_date, base_currency, target_currency)"
   ]
  },
  {
   "cell_type": "code",
   "execution_count": 4,
   "metadata": {},
   "outputs": [],
   "source": [
    "start_date = '2013-12-31'\n",
    "end_date = '2022-12-31'\n",
    "base_currency = 'EUR'\n",
    "target_currency = 'USD'\n",
    "df_EUR = get_exchange_rates(start_date, end_date, base_currency, target_currency)"
   ]
  },
  {
   "cell_type": "code",
   "execution_count": 5,
   "metadata": {},
   "outputs": [],
   "source": [
    "start_date = '2013-12-31'\n",
    "end_date = '2022-12-31'\n",
    "base_currency = 'GBP'\n",
    "target_currency = 'USD'\n",
    "df_GBP = get_exchange_rates(start_date, end_date, base_currency, target_currency)"
   ]
  },
  {
   "cell_type": "code",
   "execution_count": 6,
   "metadata": {},
   "outputs": [],
   "source": [
    "start_date = '2013-12-31'\n",
    "end_date = '2022-12-31'\n",
    "base_currency = 'INR'\n",
    "target_currency = 'USD'\n",
    "df_INR = get_exchange_rates(start_date, end_date, base_currency, target_currency)"
   ]
  },
  {
   "cell_type": "code",
   "execution_count": 2,
   "metadata": {},
   "outputs": [],
   "source": [
    "start_date = '2013-12-31'\n",
    "end_date = '2022-12-31'\n",
    "base_currency = 'CAD'\n",
    "target_currency = 'USD'\n",
    "df_CAD = get_exchange_rates(start_date, end_date, base_currency, target_currency)"
   ]
  },
  {
   "cell_type": "code",
   "execution_count": 8,
   "metadata": {},
   "outputs": [],
   "source": [
    "start_date = '2013-12-31'\n",
    "end_date = '2022-12-31'\n",
    "base_currency = 'KRW'\n",
    "target_currency = 'USD'\n",
    "df_KRW = get_exchange_rates(start_date, end_date, base_currency, target_currency)"
   ]
  },
  {
   "cell_type": "code",
   "execution_count": 9,
   "metadata": {},
   "outputs": [],
   "source": [
    "start_date = '2013-12-31'\n",
    "end_date = '2022-12-31'\n",
    "base_currency = 'RUB'\n",
    "target_currency = 'USD'\n",
    "df_RUB= get_exchange_rates(start_date, end_date, base_currency, target_currency)"
   ]
  },
  {
   "cell_type": "code",
   "execution_count": 13,
   "metadata": {},
   "outputs": [
    {
     "data": {
      "text/html": [
       "<div>\n",
       "<style scoped>\n",
       "    .dataframe tbody tr th:only-of-type {\n",
       "        vertical-align: middle;\n",
       "    }\n",
       "\n",
       "    .dataframe tbody tr th {\n",
       "        vertical-align: top;\n",
       "    }\n",
       "\n",
       "    .dataframe thead th {\n",
       "        text-align: right;\n",
       "    }\n",
       "</style>\n",
       "<table border=\"1\" class=\"dataframe\">\n",
       "  <thead>\n",
       "    <tr style=\"text-align: right;\">\n",
       "      <th></th>\n",
       "      <th>CAD/USD</th>\n",
       "      <th>CNY/USD</th>\n",
       "      <th>EUR/USD</th>\n",
       "      <th>GBP/USD</th>\n",
       "      <th>INR/USD</th>\n",
       "      <th>JPY/USD</th>\n",
       "      <th>RUB/USD</th>\n",
       "      <th>KRW/USD</th>\n",
       "    </tr>\n",
       "  </thead>\n",
       "  <tbody>\n",
       "    <tr>\n",
       "      <th>2013-01-02</th>\n",
       "      <td>1.012672</td>\n",
       "      <td>0.160039</td>\n",
       "      <td>1.320664</td>\n",
       "      <td>1.626879</td>\n",
       "      <td>0.018368</td>\n",
       "      <td>0.011477</td>\n",
       "      <td>0.033058</td>\n",
       "      <td>0.000940</td>\n",
       "    </tr>\n",
       "    <tr>\n",
       "      <th>2013-01-03</th>\n",
       "      <td>1.012338</td>\n",
       "      <td>0.160110</td>\n",
       "      <td>1.307521</td>\n",
       "      <td>1.612313</td>\n",
       "      <td>0.018366</td>\n",
       "      <td>0.011447</td>\n",
       "      <td>0.033056</td>\n",
       "      <td>0.000940</td>\n",
       "    </tr>\n",
       "    <tr>\n",
       "      <th>2013-01-04</th>\n",
       "      <td>1.013542</td>\n",
       "      <td>0.160139</td>\n",
       "      <td>1.309641</td>\n",
       "      <td>1.611448</td>\n",
       "      <td>0.018275</td>\n",
       "      <td>0.011392</td>\n",
       "      <td>0.033027</td>\n",
       "      <td>0.000941</td>\n",
       "    </tr>\n",
       "    <tr>\n",
       "      <th>2013-01-05</th>\n",
       "      <td>1.013007</td>\n",
       "      <td>0.160118</td>\n",
       "      <td>1.309641</td>\n",
       "      <td>1.611448</td>\n",
       "      <td>0.018244</td>\n",
       "      <td>0.011371</td>\n",
       "      <td>0.032995</td>\n",
       "      <td>0.000941</td>\n",
       "    </tr>\n",
       "    <tr>\n",
       "      <th>2013-01-06</th>\n",
       "      <td>1.013438</td>\n",
       "      <td>0.160125</td>\n",
       "      <td>1.309898</td>\n",
       "      <td>1.611741</td>\n",
       "      <td>0.018247</td>\n",
       "      <td>0.011361</td>\n",
       "      <td>0.032996</td>\n",
       "      <td>0.000943</td>\n",
       "    </tr>\n",
       "    <tr>\n",
       "      <th>...</th>\n",
       "      <td>...</td>\n",
       "      <td>...</td>\n",
       "      <td>...</td>\n",
       "      <td>...</td>\n",
       "      <td>...</td>\n",
       "      <td>...</td>\n",
       "      <td>...</td>\n",
       "      <td>...</td>\n",
       "    </tr>\n",
       "    <tr>\n",
       "      <th>2022-12-27</th>\n",
       "      <td>0.739235</td>\n",
       "      <td>0.143676</td>\n",
       "      <td>1.063683</td>\n",
       "      <td>1.202617</td>\n",
       "      <td>0.012081</td>\n",
       "      <td>0.007491</td>\n",
       "      <td>0.014286</td>\n",
       "      <td>0.000786</td>\n",
       "    </tr>\n",
       "    <tr>\n",
       "      <th>2022-12-28</th>\n",
       "      <td>0.735318</td>\n",
       "      <td>0.143293</td>\n",
       "      <td>1.062869</td>\n",
       "      <td>1.202971</td>\n",
       "      <td>0.012070</td>\n",
       "      <td>0.007460</td>\n",
       "      <td>0.013746</td>\n",
       "      <td>0.000785</td>\n",
       "    </tr>\n",
       "    <tr>\n",
       "      <th>2022-12-29</th>\n",
       "      <td>0.737817</td>\n",
       "      <td>0.143594</td>\n",
       "      <td>1.066155</td>\n",
       "      <td>1.205473</td>\n",
       "      <td>0.012072</td>\n",
       "      <td>0.007522</td>\n",
       "      <td>0.013513</td>\n",
       "      <td>0.000793</td>\n",
       "    </tr>\n",
       "    <tr>\n",
       "      <th>2022-12-30</th>\n",
       "      <td>0.737001</td>\n",
       "      <td>0.144963</td>\n",
       "      <td>1.072673</td>\n",
       "      <td>1.210300</td>\n",
       "      <td>0.012085</td>\n",
       "      <td>0.007627</td>\n",
       "      <td>0.013559</td>\n",
       "      <td>0.000792</td>\n",
       "    </tr>\n",
       "    <tr>\n",
       "      <th>2022-12-31</th>\n",
       "      <td>0.736947</td>\n",
       "      <td>0.144972</td>\n",
       "      <td>1.072673</td>\n",
       "      <td>1.209800</td>\n",
       "      <td>0.012085</td>\n",
       "      <td>0.007627</td>\n",
       "      <td>0.013559</td>\n",
       "      <td>0.000792</td>\n",
       "    </tr>\n",
       "  </tbody>\n",
       "</table>\n",
       "<p>3651 rows × 8 columns</p>\n",
       "</div>"
      ],
      "text/plain": [
       "             CAD/USD   CNY/USD   EUR/USD   GBP/USD   INR/USD   JPY/USD  \\\n",
       "2013-01-02  1.012672  0.160039  1.320664  1.626879  0.018368  0.011477   \n",
       "2013-01-03  1.012338  0.160110  1.307521  1.612313  0.018366  0.011447   \n",
       "2013-01-04  1.013542  0.160139  1.309641  1.611448  0.018275  0.011392   \n",
       "2013-01-05  1.013007  0.160118  1.309641  1.611448  0.018244  0.011371   \n",
       "2013-01-06  1.013438  0.160125  1.309898  1.611741  0.018247  0.011361   \n",
       "...              ...       ...       ...       ...       ...       ...   \n",
       "2022-12-27  0.739235  0.143676  1.063683  1.202617  0.012081  0.007491   \n",
       "2022-12-28  0.735318  0.143293  1.062869  1.202971  0.012070  0.007460   \n",
       "2022-12-29  0.737817  0.143594  1.066155  1.205473  0.012072  0.007522   \n",
       "2022-12-30  0.737001  0.144963  1.072673  1.210300  0.012085  0.007627   \n",
       "2022-12-31  0.736947  0.144972  1.072673  1.209800  0.012085  0.007627   \n",
       "\n",
       "             RUB/USD   KRW/USD  \n",
       "2013-01-02  0.033058  0.000940  \n",
       "2013-01-03  0.033056  0.000940  \n",
       "2013-01-04  0.033027  0.000941  \n",
       "2013-01-05  0.032995  0.000941  \n",
       "2013-01-06  0.032996  0.000943  \n",
       "...              ...       ...  \n",
       "2022-12-27  0.014286  0.000786  \n",
       "2022-12-28  0.013746  0.000785  \n",
       "2022-12-29  0.013513  0.000793  \n",
       "2022-12-30  0.013559  0.000792  \n",
       "2022-12-31  0.013559  0.000792  \n",
       "\n",
       "[3651 rows x 8 columns]"
      ]
     },
     "execution_count": 13,
     "metadata": {},
     "output_type": "execute_result"
    }
   ],
   "source": [
    "df_KRW.rename(columns={'USD':'KRW/USD'}, inplace=True)\n",
    "df_CAD.rename(columns={'USD':'CAD/USD'}, inplace=True)\n",
    "df_EUR.rename(columns={'USD':'EUR/USD'}, inplace=True)\n",
    "df_CNY.rename(columns={'USD':'CNY/USD'}, inplace=True)\n",
    "df_INR.rename(columns={'USD':'INR/USD'}, inplace=True)\n",
    "df_GBP.rename(columns={'USD':'GBP/USD'}, inplace=True)\n",
    "df_RUB.rename(columns={'USD':'RUB/USD'}, inplace=True)\n",
    "df_JPY.rename(columns={'USD':'JPY/USD'}, inplace=True)\n",
    "\n",
    "daily_exchange_rate= pd.concat([df_CAD, df_CNY,df_EUR, df_GBP,df_INR,df_JPY,df_RUB,df_KRW], axis=1)\n",
    "\n",
    "daily_exchange_rate"
   ]
  },
  {
   "cell_type": "code",
   "execution_count": 15,
   "metadata": {},
   "outputs": [],
   "source": [
    "daily_exchange_rate.to_excel('daily_exchange_rate.xlsx',index=True)"
   ]
  },
  {
   "attachments": {},
   "cell_type": "markdown",
   "metadata": {},
   "source": [
    "## Monthly average exchange rate"
   ]
  },
  {
   "cell_type": "code",
   "execution_count": 17,
   "metadata": {},
   "outputs": [],
   "source": [
    "df_CNY.index = pd.to_datetime(df_CNY.index)\n",
    "\n",
    "# Resample the DataFrame to monthly frequency and calculate the mean exchange rate for each month\n",
    "monthly_average1 = df_CNY.resample('M').mean()\n",
    "\n",
    "# Print the resulting DataFrame\n",
    "monthly_average_CNY = monthly_average1.reset_index(drop=False)"
   ]
  },
  {
   "cell_type": "code",
   "execution_count": 18,
   "metadata": {},
   "outputs": [],
   "source": [
    "df_JPY.index = pd.to_datetime(df_JPY.index)\n",
    "\n",
    "# Resample the DataFrame to monthly frequency and calculate the mean exchange rate for each month\n",
    "monthly_average2 = df_JPY.resample('M').mean()\n",
    "\n",
    "# Print the resulting DataFrame\n",
    "monthly_average_JPY = monthly_average2.reset_index(drop=False)"
   ]
  },
  {
   "cell_type": "code",
   "execution_count": 5,
   "metadata": {},
   "outputs": [],
   "source": [
    "df_CAD.index = pd.to_datetime(df_CAD.index)\n",
    "\n",
    "# Resample the DataFrame to monthly frequency and calculate the mean exchange rate for each month\n",
    "monthly_average3 = df_CAD.resample('M').mean()\n",
    "\n",
    "# Print the resulting DataFrame\n",
    "monthly_average_CAD = monthly_average3.reset_index(drop=False)"
   ]
  },
  {
   "cell_type": "code",
   "execution_count": 20,
   "metadata": {},
   "outputs": [],
   "source": [
    "df_EUR.index = pd.to_datetime(df_EUR.index)\n",
    "\n",
    "# Resample the DataFrame to monthly frequency and calculate the mean exchange rate for each month\n",
    "monthly_average4 = df_EUR.resample('M').mean()\n",
    "\n",
    "# Print the resulting DataFrame\n",
    "monthly_average_EUR = monthly_average4.reset_index(drop=False)"
   ]
  },
  {
   "cell_type": "code",
   "execution_count": 21,
   "metadata": {},
   "outputs": [],
   "source": [
    "df_GBP.index = pd.to_datetime(df_GBP.index)\n",
    "\n",
    "# Resample the DataFrame to monthly frequency and calculate the mean exchange rate for each month\n",
    "monthly_average5 = df_GBP.resample('M').mean()\n",
    "\n",
    "# Print the resulting DataFrame\n",
    "monthly_average_GBP = monthly_average5.reset_index(drop=False)"
   ]
  },
  {
   "cell_type": "code",
   "execution_count": 22,
   "metadata": {},
   "outputs": [],
   "source": [
    "df_INR.index = pd.to_datetime(df_INR.index)\n",
    "\n",
    "# Resample the DataFrame to monthly frequency and calculate the mean exchange rate for each month\n",
    "monthly_average6 = df_INR.resample('M').mean()\n",
    "\n",
    "# Print the resulting DataFrame\n",
    "monthly_average_INR = monthly_average6.reset_index(drop=False)\n",
    "\n",
    "ahhhhhh"
   ]
  },
  {
   "cell_type": "code",
   "execution_count": 23,
   "metadata": {},
   "outputs": [],
   "source": [
    "df_KRW.index = pd.to_datetime(df_KRW.index)\n",
    "\n",
    "# Resample the DataFrame to monthly frequency and calculate the mean exchange rate for each month\n",
    "monthly_average7 = df_KRW.resample('M').mean()\n",
    "\n",
    "# Print the resulting DataFrame\n",
    "monthly_average_KRW = monthly_average7.reset_index(drop=False)"
   ]
  },
  {
   "cell_type": "code",
   "execution_count": 24,
   "metadata": {},
   "outputs": [],
   "source": [
    "df_RUB.index = pd.to_datetime(df_RUB.index)\n",
    "\n",
    "# Resample the DataFrame to monthly frequency and calculate the mean exchange rate for each month\n",
    "monthly_average8 = df_RUB.resample('M').mean()\n",
    "\n",
    "# Print the resulting DataFrame\n",
    "monthly_average_RUB = monthly_average8.reset_index(drop=False)"
   ]
  },
  {
   "cell_type": "code",
   "execution_count": 25,
   "metadata": {},
   "outputs": [],
   "source": [
    "monthly_average_CNY.to_excel('monthly_average_CNY.xlsx', index=False)\n",
    "monthly_average_CAD.to_excel('monthly_average_CAD.xlsx', index=False)\n",
    "monthly_average_EUR.to_excel('monthly_average_EUR.xlsx', index=False)\n",
    "monthly_average_RUB.to_excel('monthly_average_RUB.xlsx', index=False)\n",
    "monthly_average_GBP.to_excel('monthly_average_GBP.xlsx', index=False)\n",
    "monthly_average_KRW.to_excel('monthly_average_KRW.xlsx', index=False)\n",
    "monthly_average_INR.to_excel('monthly_average_INR.xlsx', index=False)\n",
    "monthly_average_JPY.to_excel('monthly_average_JPY.xlsx', index=False)"
   ]
  }
 ],
 "metadata": {
  "kernelspec": {
   "display_name": "base",
   "language": "python",
   "name": "python3"
  },
  "language_info": {
   "codemirror_mode": {
    "name": "ipython",
    "version": 3
   },
   "file_extension": ".py",
   "mimetype": "text/x-python",
   "name": "python",
   "nbconvert_exporter": "python",
   "pygments_lexer": "ipython3",
   "version": "3.9.13"
  },
  "orig_nbformat": 4
 },
 "nbformat": 4,
 "nbformat_minor": 2
}
