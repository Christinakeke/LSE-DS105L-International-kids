{
 "cells": [
  {
   "cell_type": "code",
   "execution_count": null,
   "metadata": {},
   "outputs": [],
   "source": [
    "import requests\n",
    "import pandas as pd\n",
    "\n",
    "def get_exchange_rates(start_date, end_date, base_currency, target_currency):\n",
    "    url = \"https://api.apilayer.com/exchangerates_data/timeseries\"\n",
    "    headers = {\n",
    "        \"apikey\": \"xG4VP7WvDuXtP5HxdzfyHmPw0rR4Ymza\"\n",
    "    }\n",
    "    rates = {}\n",
    "    year = pd.Timedelta(days=365)\n",
    "    query_date = pd.to_datetime(end_date)\n",
    "    while query_date >= pd.to_datetime(start_date):\n",
    "        # Set the start and end dates for the current year\n",
    "        current_year_start = (query_date - year).strftime('%Y-%m-%d')\n",
    "        current_year_end = query_date.strftime('%Y-%m-%d')\n",
    "        params = {'access_key': 'xG4VP7WvDuXtP5HxdzfyHmPw0rR4Ymza',\n",
    "                  'start_date': current_year_start,\n",
    "                  'end_date': current_year_end,\n",
    "                  'base': base_currency,\n",
    "                  'symbols': target_currency}\n",
    "        try:\n",
    "            response = requests.get(url, params=params, headers=headers)\n",
    "            response.raise_for_status()\n",
    "            data = response.json()\n",
    "            rates.update(data['rates'])\n",
    "        except requests.exceptions.RequestException as e:\n",
    "            print(\"Error: \", e)\n",
    "        query_date -= year\n",
    "    # Create a DataFrame from the rates dictionary\n",
    "    df = pd.DataFrame.from_dict(rates, orient='index')\n",
    "    return df"
   ]
  },
  {
   "cell_type": "code",
   "execution_count": null,
   "metadata": {},
   "outputs": [],
   "source": [
    "start_date = '2013-12-31'\n",
    "end_date = '2022-12-31'\n",
    "base_currency = 'CNY'\n",
    "target_currency = 'USD'\n",
    "df_CNY = get_exchange_rates(start_date, end_date, base_currency, target_currency)"
   ]
  },
  {
   "cell_type": "code",
   "execution_count": null,
   "metadata": {},
   "outputs": [],
   "source": [
    "df_CNY.index = pd.to_datetime(df_CNY.index)\n",
    "\n",
    "# Resample the DataFrame to monthly frequency and calculate the mean exchange rate for each month\n",
    "monthly_average = df_CNY.resample('M').mean()\n",
    "\n",
    "# Print the resulting DataFrame\n",
    "monthly_average\n"
   ]
  },
  {
   "cell_type": "code",
   "execution_count": null,
   "metadata": {},
   "outputs": [],
   "source": [
    "monthly_average1= monthly_average.reset_index(drop=False)\n",
    "monthly_average1"
   ]
  },
  {
   "cell_type": "code",
   "execution_count": null,
   "metadata": {},
   "outputs": [],
   "source": [
    "monthly_average1.to_excel(\"CNY.xlsx\")\n",
    "df_CNY1=pd.read_excel('CNY.xlsx')\n"
   ]
  },
  {
   "cell_type": "code",
   "execution_count": null,
   "metadata": {},
   "outputs": [],
   "source": [
    "start_date = '2013-12-31'\n",
    "end_date = '2022-12-31'\n",
    "base_currency = 'JPY'\n",
    "target_currency = 'USD'\n",
    "df_JPY = get_exchange_rates(start_date, end_date, base_currency, target_currency)"
   ]
  },
  {
   "cell_type": "code",
   "execution_count": null,
   "metadata": {},
   "outputs": [],
   "source": [
    "start_date = '2013-12-31'\n",
    "end_date = '2022-12-31'\n",
    "base_currency = 'EUR'\n",
    "target_currency = 'USD'\n",
    "df_EUR = get_exchange_rates(start_date, end_date, base_currency, target_currency)"
   ]
  },
  {
   "cell_type": "code",
   "execution_count": null,
   "metadata": {},
   "outputs": [],
   "source": [
    "start_date = '2013-12-31'\n",
    "end_date = '2022-12-31'\n",
    "base_currency = 'GBP'\n",
    "target_currency = 'USD'\n",
    "df_GBP = get_exchange_rates(start_date, end_date, base_currency, target_currency)"
   ]
  },
  {
   "cell_type": "code",
   "execution_count": null,
   "metadata": {},
   "outputs": [],
   "source": [
    "start_date = '2013-12-31'\n",
    "end_date = '2022-12-31'\n",
    "base_currency = 'INR'\n",
    "target_currency = 'USD'\n",
    "df_INR = get_exchange_rates(start_date, end_date, base_currency, target_currency)"
   ]
  },
  {
   "cell_type": "code",
   "execution_count": null,
   "metadata": {},
   "outputs": [],
   "source": [
    "start_date = '2013-12-31'\n",
    "end_date = '2022-12-31'\n",
    "base_currency = 'CAD'\n",
    "target_currency = 'USD'\n",
    "df_CAD = get_exchange_rates(start_date, end_date, base_currency, target_currency)"
   ]
  },
  {
   "cell_type": "code",
   "execution_count": null,
   "metadata": {},
   "outputs": [],
   "source": [
    "start_date = '2013-12-31'\n",
    "end_date = '2022-12-31'\n",
    "base_currency = 'KRW'\n",
    "target_currency = 'USD'\n",
    "df_KRW = get_exchange_rates(start_date, end_date, base_currency, target_currency)"
   ]
  },
  {
   "cell_type": "code",
   "execution_count": null,
   "metadata": {},
   "outputs": [],
   "source": [
    "start_date = '2013-12-31'\n",
    "end_date = '2022-12-31'\n",
    "base_currency = 'RUB'\n",
    "target_currency = 'USD'\n",
    "df_RUB= get_exchange_rates(start_date, end_date, base_currency, target_currency)"
   ]
  }
 ],
 "metadata": {
  "language_info": {
   "name": "python"
  },
  "orig_nbformat": 4
 },
 "nbformat": 4,
 "nbformat_minor": 2
}
