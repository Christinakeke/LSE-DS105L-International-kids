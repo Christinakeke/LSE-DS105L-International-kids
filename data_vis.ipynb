{
 "cells": [
  {
   "cell_type": "code",
   "execution_count": 2,
   "metadata": {},
   "outputs": [],
   "source": [
    "import pandas as pd"
   ]
  },
  {
   "cell_type": "code",
   "execution_count": 3,
   "metadata": {},
   "outputs": [
    {
     "name": "stdout",
     "output_type": "stream",
     "text": [
      "Requirement already satisfied: plotnine in c:\\users\\17709\\anaconda3\\lib\\site-packages (0.10.1)\n",
      "Requirement already satisfied: numpy>=1.19.0 in c:\\users\\17709\\anaconda3\\lib\\site-packages (from plotnine) (1.21.5)\n",
      "Requirement already satisfied: scipy>=1.5.0 in c:\\users\\17709\\anaconda3\\lib\\site-packages (from plotnine) (1.9.1)\n",
      "Requirement already satisfied: pandas>=1.3.5 in c:\\users\\17709\\anaconda3\\lib\\site-packages (from plotnine) (1.4.4)\n",
      "Requirement already satisfied: mizani>=0.8.1 in c:\\users\\17709\\anaconda3\\lib\\site-packages (from plotnine) (0.8.1)\n",
      "Requirement already satisfied: statsmodels>=0.13.2 in c:\\users\\17709\\anaconda3\\lib\\site-packages (from plotnine) (0.13.2)\n",
      "Requirement already satisfied: patsy>=0.5.1 in c:\\users\\17709\\anaconda3\\lib\\site-packages (from plotnine) (0.5.2)\n",
      "Requirement already satisfied: matplotlib>=3.5.0 in c:\\users\\17709\\anaconda3\\lib\\site-packages (from plotnine) (3.5.2)\n",
      "Requirement already satisfied: packaging>=20.0 in c:\\users\\17709\\anaconda3\\lib\\site-packages (from matplotlib>=3.5.0->plotnine) (21.3)\n",
      "Requirement already satisfied: cycler>=0.10 in c:\\users\\17709\\anaconda3\\lib\\site-packages (from matplotlib>=3.5.0->plotnine) (0.11.0)\n",
      "Requirement already satisfied: pyparsing>=2.2.1 in c:\\users\\17709\\anaconda3\\lib\\site-packages (from matplotlib>=3.5.0->plotnine) (3.0.9)\n",
      "Requirement already satisfied: fonttools>=4.22.0 in c:\\users\\17709\\anaconda3\\lib\\site-packages (from matplotlib>=3.5.0->plotnine) (4.25.0)\n",
      "Requirement already satisfied: python-dateutil>=2.7 in c:\\users\\17709\\anaconda3\\lib\\site-packages (from matplotlib>=3.5.0->plotnine) (2.8.2)\n",
      "Requirement already satisfied: kiwisolver>=1.0.1 in c:\\users\\17709\\anaconda3\\lib\\site-packages (from matplotlib>=3.5.0->plotnine) (1.4.2)\n",
      "Requirement already satisfied: pillow>=6.2.0 in c:\\users\\17709\\anaconda3\\lib\\site-packages (from matplotlib>=3.5.0->plotnine) (9.2.0)\n",
      "Requirement already satisfied: tzdata in c:\\users\\17709\\anaconda3\\lib\\site-packages (from mizani>=0.8.1->plotnine) (2022.7)\n",
      "Requirement already satisfied: palettable in c:\\users\\17709\\anaconda3\\lib\\site-packages (from mizani>=0.8.1->plotnine) (3.3.0)\n",
      "Requirement already satisfied: pytz>=2020.1 in c:\\users\\17709\\anaconda3\\lib\\site-packages (from pandas>=1.3.5->plotnine) (2022.1)\n",
      "Requirement already satisfied: six in c:\\users\\17709\\anaconda3\\lib\\site-packages (from patsy>=0.5.1->plotnine) (1.16.0)\n",
      "Note: you may need to restart the kernel to use updated packages.\n"
     ]
    }
   ],
   "source": [
    "pip install plotnine"
   ]
  },
  {
   "cell_type": "code",
   "execution_count": 4,
   "metadata": {},
   "outputs": [],
   "source": [
    "from plotnine import *\n",
    "\n",
    "from matplotlib.dates import DateFormatter"
   ]
  },
  {
   "cell_type": "code",
   "execution_count": 5,
   "metadata": {},
   "outputs": [
    {
     "data": {
      "text/html": [
       "<div>\n",
       "<style scoped>\n",
       "    .dataframe tbody tr th:only-of-type {\n",
       "        vertical-align: middle;\n",
       "    }\n",
       "\n",
       "    .dataframe tbody tr th {\n",
       "        vertical-align: top;\n",
       "    }\n",
       "\n",
       "    .dataframe thead th {\n",
       "        text-align: right;\n",
       "    }\n",
       "</style>\n",
       "<table border=\"1\" class=\"dataframe\">\n",
       "  <thead>\n",
       "    <tr style=\"text-align: right;\">\n",
       "      <th></th>\n",
       "      <th>USD</th>\n",
       "    </tr>\n",
       "  </thead>\n",
       "  <tbody>\n",
       "    <tr>\n",
       "      <th>0</th>\n",
       "      <td>1.624305</td>\n",
       "    </tr>\n",
       "    <tr>\n",
       "      <th>1</th>\n",
       "      <td>1.626879</td>\n",
       "    </tr>\n",
       "    <tr>\n",
       "      <th>2</th>\n",
       "      <td>1.612313</td>\n",
       "    </tr>\n",
       "    <tr>\n",
       "      <th>3</th>\n",
       "      <td>1.611448</td>\n",
       "    </tr>\n",
       "    <tr>\n",
       "      <th>4</th>\n",
       "      <td>1.611448</td>\n",
       "    </tr>\n",
       "    <tr>\n",
       "      <th>...</th>\n",
       "      <td>...</td>\n",
       "    </tr>\n",
       "    <tr>\n",
       "      <th>360</th>\n",
       "      <td>1.648079</td>\n",
       "    </tr>\n",
       "    <tr>\n",
       "      <th>361</th>\n",
       "      <td>1.648014</td>\n",
       "    </tr>\n",
       "    <tr>\n",
       "      <th>362</th>\n",
       "      <td>1.648900</td>\n",
       "    </tr>\n",
       "    <tr>\n",
       "      <th>363</th>\n",
       "      <td>1.649060</td>\n",
       "    </tr>\n",
       "    <tr>\n",
       "      <th>364</th>\n",
       "      <td>1.656128</td>\n",
       "    </tr>\n",
       "  </tbody>\n",
       "</table>\n",
       "<p>365 rows × 1 columns</p>\n",
       "</div>"
      ],
      "text/plain": [
       "          USD\n",
       "0    1.624305\n",
       "1    1.626879\n",
       "2    1.612313\n",
       "3    1.611448\n",
       "4    1.611448\n",
       "..        ...\n",
       "360  1.648079\n",
       "361  1.648014\n",
       "362  1.648900\n",
       "363  1.649060\n",
       "364  1.656128\n",
       "\n",
       "[365 rows x 1 columns]"
      ]
     },
     "execution_count": 5,
     "metadata": {},
     "output_type": "execute_result"
    }
   ],
   "source": [
    "df1 = pd.read_excel('output-1.xlsx')\n",
    "df1"
   ]
  },
  {
   "cell_type": "code",
   "execution_count": 6,
   "metadata": {},
   "outputs": [
    {
     "data": {
      "text/html": [
       "<div>\n",
       "<style scoped>\n",
       "    .dataframe tbody tr th:only-of-type {\n",
       "        vertical-align: middle;\n",
       "    }\n",
       "\n",
       "    .dataframe tbody tr th {\n",
       "        vertical-align: top;\n",
       "    }\n",
       "\n",
       "    .dataframe thead th {\n",
       "        text-align: right;\n",
       "    }\n",
       "</style>\n",
       "<table border=\"1\" class=\"dataframe\">\n",
       "  <thead>\n",
       "    <tr style=\"text-align: right;\">\n",
       "      <th></th>\n",
       "      <th>Date</th>\n",
       "      <th>CNY</th>\n",
       "    </tr>\n",
       "  </thead>\n",
       "  <tbody>\n",
       "    <tr>\n",
       "      <th>0</th>\n",
       "      <td>2013-01-31</td>\n",
       "      <td>0.160396</td>\n",
       "    </tr>\n",
       "    <tr>\n",
       "      <th>1</th>\n",
       "      <td>2013-02-28</td>\n",
       "      <td>0.160114</td>\n",
       "    </tr>\n",
       "    <tr>\n",
       "      <th>2</th>\n",
       "      <td>2013-03-31</td>\n",
       "      <td>0.160488</td>\n",
       "    </tr>\n",
       "    <tr>\n",
       "      <th>3</th>\n",
       "      <td>2013-04-30</td>\n",
       "      <td>0.161311</td>\n",
       "    </tr>\n",
       "    <tr>\n",
       "      <th>4</th>\n",
       "      <td>2013-05-31</td>\n",
       "      <td>0.162514</td>\n",
       "    </tr>\n",
       "    <tr>\n",
       "      <th>...</th>\n",
       "      <td>...</td>\n",
       "      <td>...</td>\n",
       "    </tr>\n",
       "    <tr>\n",
       "      <th>115</th>\n",
       "      <td>2022-08-31</td>\n",
       "      <td>0.147059</td>\n",
       "    </tr>\n",
       "    <tr>\n",
       "      <th>116</th>\n",
       "      <td>2022-09-30</td>\n",
       "      <td>0.142712</td>\n",
       "    </tr>\n",
       "    <tr>\n",
       "      <th>117</th>\n",
       "      <td>2022-10-31</td>\n",
       "      <td>0.139092</td>\n",
       "    </tr>\n",
       "    <tr>\n",
       "      <th>118</th>\n",
       "      <td>2022-11-30</td>\n",
       "      <td>0.139558</td>\n",
       "    </tr>\n",
       "    <tr>\n",
       "      <th>119</th>\n",
       "      <td>2022-12-31</td>\n",
       "      <td>0.143394</td>\n",
       "    </tr>\n",
       "  </tbody>\n",
       "</table>\n",
       "<p>120 rows × 2 columns</p>\n",
       "</div>"
      ],
      "text/plain": [
       "          Date       CNY\n",
       "0   2013-01-31  0.160396\n",
       "1   2013-02-28  0.160114\n",
       "2   2013-03-31  0.160488\n",
       "3   2013-04-30  0.161311\n",
       "4   2013-05-31  0.162514\n",
       "..         ...       ...\n",
       "115 2022-08-31  0.147059\n",
       "116 2022-09-30  0.142712\n",
       "117 2022-10-31  0.139092\n",
       "118 2022-11-30  0.139558\n",
       "119 2022-12-31  0.143394\n",
       "\n",
       "[120 rows x 2 columns]"
      ]
     },
     "execution_count": 6,
     "metadata": {},
     "output_type": "execute_result"
    }
   ],
   "source": [
    "df_CNY = pd.read_excel('CNY.xlsx')\n",
    "df_CNY\n",
    "# change the column name\n",
    "df_CNY.columns = ['unamed','Date', 'CNY']\n",
    "df_CNY = df_CNY.drop(['unamed'], axis=1)\n",
    "df_CNY"
   ]
  },
  {
   "cell_type": "code",
   "execution_count": 7,
   "metadata": {},
   "outputs": [
    {
     "ename": "IndentationError",
     "evalue": "unexpected indent (981933900.py, line 2)",
     "output_type": "error",
     "traceback": [
      "\u001b[1;36m  File \u001b[1;32m\"C:\\Users\\17709\\AppData\\Local\\Temp\\ipykernel_13544\\981933900.py\"\u001b[1;36m, line \u001b[1;32m2\u001b[0m\n\u001b[1;33m    +scale_x_date(labels=df_CNY['Date'](\"%Y-%m-%d\"), breaks=date_breaks(\"1 month\"))\u001b[0m\n\u001b[1;37m    ^\u001b[0m\n\u001b[1;31mIndentationError\u001b[0m\u001b[1;31m:\u001b[0m unexpected indent\n"
     ]
    }
   ],
   "source": [
    "g = ggplot (data=df_CNY, mapping=aes(x='Date', y='CNY/USD')) + geom_line(color='red',size = 2)\n",
    "    +scale_x_date(labels=df_CNY['Date'](\"%Y-%m-%d\"), breaks=date_breaks(\"1 month\"))\n"
   ]
  },
  {
   "cell_type": "code",
   "execution_count": null,
   "metadata": {},
   "outputs": [
    {
     "data": {
      "image/png": "[encoded data removed]",
      "text/plain": [
       "<Figure size 640x480 with 1 Axes>"
      ]
     },
     "metadata": {},
     "output_type": "display_data"
    },
    {
     "data": {
      "text/plain": [
       "<ggplot: (148762542993)>"
      ]
     },
     "execution_count": 112,
     "metadata": {},
     "output_type": "execute_result"
    }
   ],
   "source": [
    "\n",
    "df_CNY['Date'] = pd.to_datetime(df_CNY['Date'])\n",
    "\n",
    "g = ggplot(data=df_CNY, mapping=aes(x='Date', y='CNY')) + \\\n",
    "    geom_line(color='red', size=1) + \\\n",
    "    theme_bw() + \\\n",
    "    scale_x_date(date_labels='%Y', date_minor_breaks='1 year') + \\\n",
    "    xlab(\"Year\") + ylab(\"CNY/USD\") + ggtitle(\"CNY/USD Exchange Rate\")\n",
    "\n",
    "\n",
    "g\n"
   ]
  },
  {
   "cell_type": "code",
   "execution_count": null,
   "metadata": {},
   "outputs": [
    {
     "data": {
      "text/html": [
       "<div>\n",
       "<style scoped>\n",
       "    .dataframe tbody tr th:only-of-type {\n",
       "        vertical-align: middle;\n",
       "    }\n",
       "\n",
       "    .dataframe tbody tr th {\n",
       "        vertical-align: top;\n",
       "    }\n",
       "\n",
       "    .dataframe thead th {\n",
       "        text-align: right;\n",
       "    }\n",
       "</style>\n",
       "<table border=\"1\" class=\"dataframe\">\n",
       "  <thead>\n",
       "    <tr style=\"text-align: right;\">\n",
       "      <th></th>\n",
       "      <th>LOCATION</th>\n",
       "      <th>INDICATOR</th>\n",
       "      <th>SUBJECT</th>\n",
       "      <th>MEASURE</th>\n",
       "      <th>FREQUENCY</th>\n",
       "      <th>TIME</th>\n",
       "      <th>Value</th>\n",
       "      <th>Flag Codes</th>\n",
       "    </tr>\n",
       "  </thead>\n",
       "  <tbody>\n",
       "    <tr>\n",
       "      <th>742</th>\n",
       "      <td>CHN</td>\n",
       "      <td>CPI</td>\n",
       "      <td>TOT</td>\n",
       "      <td>AGRWTH</td>\n",
       "      <td>M</td>\n",
       "      <td>2012-11</td>\n",
       "      <td>2.0</td>\n",
       "      <td>NaN</td>\n",
       "    </tr>\n",
       "    <tr>\n",
       "      <th>743</th>\n",
       "      <td>CHN</td>\n",
       "      <td>CPI</td>\n",
       "      <td>TOT</td>\n",
       "      <td>AGRWTH</td>\n",
       "      <td>M</td>\n",
       "      <td>2012-12</td>\n",
       "      <td>2.5</td>\n",
       "      <td>NaN</td>\n",
       "    </tr>\n",
       "    <tr>\n",
       "      <th>744</th>\n",
       "      <td>CHN</td>\n",
       "      <td>CPI</td>\n",
       "      <td>TOT</td>\n",
       "      <td>AGRWTH</td>\n",
       "      <td>M</td>\n",
       "      <td>2013-01</td>\n",
       "      <td>2.0</td>\n",
       "      <td>NaN</td>\n",
       "    </tr>\n",
       "    <tr>\n",
       "      <th>745</th>\n",
       "      <td>CHN</td>\n",
       "      <td>CPI</td>\n",
       "      <td>TOT</td>\n",
       "      <td>AGRWTH</td>\n",
       "      <td>M</td>\n",
       "      <td>2013-02</td>\n",
       "      <td>3.2</td>\n",
       "      <td>NaN</td>\n",
       "    </tr>\n",
       "    <tr>\n",
       "      <th>746</th>\n",
       "      <td>CHN</td>\n",
       "      <td>CPI</td>\n",
       "      <td>TOT</td>\n",
       "      <td>AGRWTH</td>\n",
       "      <td>M</td>\n",
       "      <td>2013-03</td>\n",
       "      <td>2.1</td>\n",
       "      <td>NaN</td>\n",
       "    </tr>\n",
       "  </tbody>\n",
       "</table>\n",
       "</div>"
      ],
      "text/plain": [
       "    LOCATION INDICATOR SUBJECT MEASURE FREQUENCY     TIME  Value  Flag Codes\n",
       "742      CHN       CPI     TOT  AGRWTH         M  2012-11    2.0         NaN\n",
       "743      CHN       CPI     TOT  AGRWTH         M  2012-12    2.5         NaN\n",
       "744      CHN       CPI     TOT  AGRWTH         M  2013-01    2.0         NaN\n",
       "745      CHN       CPI     TOT  AGRWTH         M  2013-02    3.2         NaN\n",
       "746      CHN       CPI     TOT  AGRWTH         M  2013-03    2.1         NaN"
      ]
     },
     "execution_count": 90,
     "metadata": {},
     "output_type": "execute_result"
    }
   ],
   "source": [
    "\n",
    "df_CNYi = pd.read_csv('Inflation.csv')\n",
    "df_CNYi.head()\n",
    "# only keep location = chn\n",
    "df_CNYi = df_CNYi[df_CNYi['LOCATION'] == 'CHN']\n",
    "df_CNYi = pd.DataFrame(df_CNYi)\n",
    "df_CNYi.head()"
   ]
  },
  {
   "cell_type": "code",
   "execution_count": null,
   "metadata": {},
   "outputs": [
    {
     "data": {
      "text/plain": [
       "Index(['LOCATION', 'INDICATOR', 'SUBJECT', 'MEASURE', 'FREQUENCY', 'TIME',\n",
       "       'Value', 'Flag Codes'],\n",
       "      dtype='object')"
      ]
     },
     "execution_count": 91,
     "metadata": {},
     "output_type": "execute_result"
    }
   ],
   "source": [
    "df_CNYi.columns"
   ]
  },
  {
   "cell_type": "code",
   "execution_count": null,
   "metadata": {},
   "outputs": [],
   "source": [
    "# only keep the columns we need\n",
    "df_CNYi = df_CNYi[['LOCATION', 'TIME', 'Value']] \n",
    "df_CNYi.head()\n",
    "df_CNYi['TIME'] = pd.to_datetime(df_CNYi['TIME'])"
   ]
  },
  {
   "cell_type": "code",
   "execution_count": null,
   "metadata": {},
   "outputs": [
    {
     "data": {
      "text/html": [
       "<div>\n",
       "<style scoped>\n",
       "    .dataframe tbody tr th:only-of-type {\n",
       "        vertical-align: middle;\n",
       "    }\n",
       "\n",
       "    .dataframe tbody tr th {\n",
       "        vertical-align: top;\n",
       "    }\n",
       "\n",
       "    .dataframe thead th {\n",
       "        text-align: right;\n",
       "    }\n",
       "</style>\n",
       "<table border=\"1\" class=\"dataframe\">\n",
       "  <thead>\n",
       "    <tr style=\"text-align: right;\">\n",
       "      <th></th>\n",
       "      <th>LOCATION</th>\n",
       "      <th>TIME</th>\n",
       "      <th>Value</th>\n",
       "    </tr>\n",
       "  </thead>\n",
       "  <tbody>\n",
       "    <tr>\n",
       "      <th>0</th>\n",
       "      <td>CHN</td>\n",
       "      <td>2012-11-01</td>\n",
       "      <td>2.0</td>\n",
       "    </tr>\n",
       "    <tr>\n",
       "      <th>1</th>\n",
       "      <td>CHN</td>\n",
       "      <td>2012-12-01</td>\n",
       "      <td>2.5</td>\n",
       "    </tr>\n",
       "    <tr>\n",
       "      <th>2</th>\n",
       "      <td>CHN</td>\n",
       "      <td>2013-01-01</td>\n",
       "      <td>2.0</td>\n",
       "    </tr>\n",
       "    <tr>\n",
       "      <th>3</th>\n",
       "      <td>CHN</td>\n",
       "      <td>2013-02-01</td>\n",
       "      <td>3.2</td>\n",
       "    </tr>\n",
       "    <tr>\n",
       "      <th>4</th>\n",
       "      <td>CHN</td>\n",
       "      <td>2013-03-01</td>\n",
       "      <td>2.1</td>\n",
       "    </tr>\n",
       "  </tbody>\n",
       "</table>\n",
       "</div>"
      ],
      "text/plain": [
       "  LOCATION       TIME  Value\n",
       "0      CHN 2012-11-01    2.0\n",
       "1      CHN 2012-12-01    2.5\n",
       "2      CHN 2013-01-01    2.0\n",
       "3      CHN 2013-02-01    3.2\n",
       "4      CHN 2013-03-01    2.1"
      ]
     },
     "execution_count": 104,
     "metadata": {},
     "output_type": "execute_result"
    }
   ],
   "source": [
    "df_CNYi.head()\n",
    "df_CNYi = df_CNYi.reset_index(drop=True)\n",
    "df_CNYi.head()"
   ]
  },
  {
   "cell_type": "code",
   "execution_count": null,
   "metadata": {},
   "outputs": [
    {
     "data": {
      "image/png": "[encoded data removed]",
      "text/plain": [
       "<Figure size 640x480 with 1 Axes>"
      ]
     },
     "metadata": {},
     "output_type": "display_data"
    },
    {
     "data": {
      "text/plain": [
       "<ggplot: (148762019554)>"
      ]
     },
     "execution_count": 116,
     "metadata": {},
     "output_type": "execute_result"
    }
   ],
   "source": [
    "g1 = ggplot(data=df_CNYi, mapping=aes(x='TIME', y='Value')) +\\\n",
    "    geom_line(color='pink', size=1) + \\\n",
    "    theme_bw() + \\\n",
    "    scale_x_date(date_labels='%Y', date_minor_breaks='1 year') +\\\n",
    "    xlab(\"Year\") + ylab(\"Inflation Rate\") + ggtitle(\"Inflation Rate in China\")\n",
    "\n",
    "g1 \n"
   ]
  },
  {
   "cell_type": "code",
   "execution_count": 8,
   "metadata": {},
   "outputs": [
    {
     "ename": "NameError",
     "evalue": "name 'g' is not defined",
     "output_type": "error",
     "traceback": [
      "\u001b[1;31m---------------------------------------------------------------------------\u001b[0m",
      "\u001b[1;31mNameError\u001b[0m                                 Traceback (most recent call last)",
      "\u001b[1;32m~\\AppData\\Local\\Temp\\ipykernel_13544\\1093014456.py\u001b[0m in \u001b[0;36m<module>\u001b[1;34m\u001b[0m\n\u001b[1;32m----> 1\u001b[1;33m \u001b[0mg\u001b[0m\u001b[1;33m\u001b[0m\u001b[1;33m\u001b[0m\u001b[0m\n\u001b[0m",
      "\u001b[1;31mNameError\u001b[0m: name 'g' is not defined"
     ]
    }
   ],
   "source": []
  }
 ],
 "metadata": {
  "kernelspec": {
   "display_name": "base",
   "language": "python",
   "name": "python3"
  },
  "language_info": {
   "codemirror_mode": {
    "name": "ipython",
    "version": 3
   },
   "file_extension": ".py",
   "mimetype": "text/x-python",
   "name": "python",
   "nbconvert_exporter": "python",
   "pygments_lexer": "ipython3",
   "version": "3.9.13"
  },
  "orig_nbformat": 4
 },
 "nbformat": 4,
 "nbformat_minor": 2
}
